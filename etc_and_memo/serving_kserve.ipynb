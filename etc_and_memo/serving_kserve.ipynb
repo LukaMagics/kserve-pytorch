{
 "cells": [
  {
   "cell_type": "code",
   "execution_count": 16,
   "id": "87d57983-84ab-40ad-b980-6bfbb4e16bde",
   "metadata": {},
   "outputs": [],
   "source": [
    "from kubernetes import client \n",
    "from kserve import KServeClient\n",
    "from kserve import constants\n",
    "from kserve import utils\n",
    "from kserve import V1beta1InferenceService\n",
    "from kserve import V1beta1InferenceServiceSpec\n",
    "from kserve import V1beta1PredictorSpec\n",
    "from kserve import V1beta1SKLearnSpec"
   ]
  },
  {
   "cell_type": "code",
   "execution_count": 30,
   "id": "9b588e44-cc77-4aeb-a575-e4263ded90fe",
   "metadata": {},
   "outputs": [],
   "source": [
    "namespace = utils.get_default_target_namespace()\n",
    "\n",
    "model_name='torch2'\n",
    "kserve_version='v1beta1'\n",
    "api_version = constants.KSERVE_GROUP + '/' + kserve_version"
   ]
  },
  {
   "cell_type": "code",
   "execution_count": 31,
   "id": "3f2f4c8e-960e-4c11-8160-16eca5e1eca8",
   "metadata": {},
   "outputs": [],
   "source": [
    "isvc = V1beta1InferenceService(api_version=api_version,\n",
    "                               kind=constants.KSERVE_KIND,\n",
    "                               metadata=client.V1ObjectMeta(\n",
    "                                   name=model_name, namespace=namespace, annotations={'sidecar.istio.io/inject':'false'}),\n",
    "                               spec=V1beta1InferenceServiceSpec(\n",
    "                               predictor=V1beta1PredictorSpec(\n",
    "                               pytorch=(V1beta1SKLearnSpec(\n",
    "                                   storage_uri=\"pvc://user1-volume/kserve-pytorch\"))))\n",
    ")"
   ]
  },
  {
   "cell_type": "code",
   "execution_count": 32,
   "id": "dbe17683-5cc4-43a7-b1b9-373ffeafb805",
   "metadata": {
    "collapsed": true,
    "jupyter": {
     "outputs_hidden": true
    },
    "tags": []
   },
   "outputs": [
    {
     "data": {
      "text/plain": [
       "{'apiVersion': 'serving.kserve.io/v1beta1',\n",
       " 'kind': 'InferenceService',\n",
       " 'metadata': {'annotations': {'sidecar.istio.io/inject': 'false'},\n",
       "  'creationTimestamp': '2023-04-06T06:39:56Z',\n",
       "  'generation': 1,\n",
       "  'labels': {'serviceEnvelope': 'kserve'},\n",
       "  'managedFields': [{'apiVersion': 'serving.kserve.io/v1beta1',\n",
       "    'fieldsType': 'FieldsV1',\n",
       "    'fieldsV1': {'f:metadata': {'f:annotations': {'.': {},\n",
       "       'f:sidecar.istio.io/inject': {}}},\n",
       "     'f:spec': {'.': {},\n",
       "      'f:predictor': {'.': {}, 'f:pytorch': {'.': {}, 'f:storageUri': {}}}}},\n",
       "    'manager': 'OpenAPI-Generator',\n",
       "    'operation': 'Update',\n",
       "    'time': '2023-04-06T06:39:54Z'}],\n",
       "  'name': 'torch2',\n",
       "  'namespace': 'kubeflow-user-example-com',\n",
       "  'resourceVersion': '671394',\n",
       "  'uid': '1e72d499-feeb-434e-a86e-a7d2e89afe1a'},\n",
       " 'spec': {'predictor': {'model': {'modelFormat': {'name': 'pytorch'},\n",
       "    'name': '',\n",
       "    'resources': {},\n",
       "    'runtime': 'kserve-torchserve',\n",
       "    'storageUri': 'pvc://user1-volume/kserve-pytorch'}}}}"
      ]
     },
     "execution_count": 32,
     "metadata": {},
     "output_type": "execute_result"
    }
   ],
   "source": [
    "KServe = KServeClient()\n",
    "KServe.create(isvc)"
   ]
  },
  {
   "cell_type": "code",
   "execution_count": 33,
   "id": "020acde9-6ce9-47f8-8c92-5411bd593b77",
   "metadata": {
    "tags": []
   },
   "outputs": [
    {
     "data": {
      "text/plain": [
       "{'apiVersion': 'serving.kserve.io/v1beta1',\n",
       " 'kind': 'InferenceService',\n",
       " 'metadata': {'annotations': {'sidecar.istio.io/inject': 'false'},\n",
       "  'creationTimestamp': '2023-04-06T06:39:56Z',\n",
       "  'finalizers': ['inferenceservice.finalizers'],\n",
       "  'generation': 1,\n",
       "  'labels': {'serviceEnvelope': 'kserve'},\n",
       "  'managedFields': [{'apiVersion': 'serving.kserve.io/v1beta1',\n",
       "    'fieldsType': 'FieldsV1',\n",
       "    'fieldsV1': {'f:metadata': {'f:annotations': {'.': {},\n",
       "       'f:sidecar.istio.io/inject': {}}},\n",
       "     'f:spec': {'.': {},\n",
       "      'f:predictor': {'.': {}, 'f:pytorch': {'.': {}, 'f:storageUri': {}}}}},\n",
       "    'manager': 'OpenAPI-Generator',\n",
       "    'operation': 'Update',\n",
       "    'time': '2023-04-06T06:39:54Z'},\n",
       "   {'apiVersion': 'serving.kserve.io/v1beta1',\n",
       "    'fieldsType': 'FieldsV1',\n",
       "    'fieldsV1': {'f:metadata': {'f:finalizers': {'.': {},\n",
       "       'v:\"inferenceservice.finalizers\"': {}}}},\n",
       "    'manager': 'manager',\n",
       "    'operation': 'Update',\n",
       "    'time': '2023-04-06T06:39:56Z'},\n",
       "   {'apiVersion': 'serving.kserve.io/v1beta1',\n",
       "    'fieldsType': 'FieldsV1',\n",
       "    'fieldsV1': {'f:status': {'.': {},\n",
       "      'f:address': {'.': {}, 'f:url': {}},\n",
       "      'f:components': {'.': {},\n",
       "       'f:predictor': {'.': {},\n",
       "        'f:address': {'.': {}, 'f:url': {}},\n",
       "        'f:latestCreatedRevision': {},\n",
       "        'f:latestReadyRevision': {},\n",
       "        'f:latestRolledoutRevision': {},\n",
       "        'f:traffic': {},\n",
       "        'f:url': {}}},\n",
       "      'f:conditions': {},\n",
       "      'f:url': {}}},\n",
       "    'manager': 'manager',\n",
       "    'operation': 'Update',\n",
       "    'subresource': 'status',\n",
       "    'time': '2023-04-06T06:40:13Z'}],\n",
       "  'name': 'torch2',\n",
       "  'namespace': 'kubeflow-user-example-com',\n",
       "  'resourceVersion': '671621',\n",
       "  'uid': '1e72d499-feeb-434e-a86e-a7d2e89afe1a'},\n",
       " 'spec': {'predictor': {'model': {'modelFormat': {'name': 'pytorch'},\n",
       "    'name': '',\n",
       "    'resources': {},\n",
       "    'runtime': 'kserve-torchserve',\n",
       "    'storageUri': 'pvc://user1-volume/kserve-pytorch'}}},\n",
       " 'status': {'address': {'url': 'http://torch2.kubeflow-user-example-com.svc.cluster.local/v2/models/torch2/infer'},\n",
       "  'components': {'predictor': {'address': {'url': 'http://torch2-predictor-default.kubeflow-user-example-com.svc.cluster.local'},\n",
       "    'latestCreatedRevision': 'torch2-predictor-default-00001',\n",
       "    'latestReadyRevision': 'torch2-predictor-default-00001',\n",
       "    'latestRolledoutRevision': 'torch2-predictor-default-00001',\n",
       "    'traffic': [{'latestRevision': True,\n",
       "      'percent': 100,\n",
       "      'revisionName': 'torch2-predictor-default-00001'}],\n",
       "    'url': 'http://torch2-predictor-default.kubeflow-user-example-com.example.com'}},\n",
       "  'conditions': [{'lastTransitionTime': '2023-04-06T06:40:12Z',\n",
       "    'status': 'True',\n",
       "    'type': 'IngressReady'},\n",
       "   {'lastTransitionTime': '2023-04-06T06:40:12Z',\n",
       "    'severity': 'Info',\n",
       "    'status': 'True',\n",
       "    'type': 'PredictorConfigurationReady'},\n",
       "   {'lastTransitionTime': '2023-04-06T06:40:12Z',\n",
       "    'status': 'True',\n",
       "    'type': 'PredictorReady'},\n",
       "   {'lastTransitionTime': '2023-04-06T06:40:12Z',\n",
       "    'severity': 'Info',\n",
       "    'status': 'True',\n",
       "    'type': 'PredictorRouteReady'},\n",
       "   {'lastTransitionTime': '2023-04-06T06:40:12Z',\n",
       "    'status': 'True',\n",
       "    'type': 'Ready'}],\n",
       "  'url': 'http://torch2.kubeflow-user-example-com.example.com'}}"
      ]
     },
     "execution_count": 33,
     "metadata": {},
     "output_type": "execute_result"
    }
   ],
   "source": [
    "KServe.get(model_name, namespace=namespace)"
   ]
  },
  {
   "cell_type": "code",
   "execution_count": 34,
   "id": "105da8e7-84d4-4475-9db8-4e2a8489960c",
   "metadata": {},
   "outputs": [
    {
     "name": "stdout",
     "output_type": "stream",
     "text": [
      "http://torch2.kubeflow-user-example-com.svc.cluster.local/v2/models/torch2/infer\n",
      "{\"predictions\": [{\"output\": [\"Iris-versicolor\", \"Iris-versicolor\"]}]}\n"
     ]
    }
   ],
   "source": [
    "import requests\n",
    "\n",
    "isvc_resp = KServe.get(model_name, namespace=namespace)\n",
    "isvc_url = isvc_resp['status']['address']['url']\n",
    "\n",
    "print(isvc_url)\n",
    "\n",
    "inference_input = {\n",
    "  'instances': [\n",
    "    [6.8,  2.8,  4.8,  1.4],\n",
    "    [6.0,  3.4,  4.5,  1.6]\n",
    "  ]\n",
    "}\n",
    "\n",
    "response = requests.post(isvc_url, json=inference_input)\n",
    "print(response.text)"
   ]
  },
  {
   "cell_type": "code",
   "execution_count": 48,
   "id": "042c9c03-df27-420d-859d-cc5f8b06829c",
   "metadata": {},
   "outputs": [
    {
     "data": {
      "text/plain": [
       "<Response [500]>"
      ]
     },
     "execution_count": 48,
     "metadata": {},
     "output_type": "execute_result"
    }
   ],
   "source": [
    "requests.post(isvc_url, json=inference_input)"
   ]
  },
  {
   "cell_type": "code",
   "execution_count": 37,
   "id": "9b56a505-e2c1-42eb-958d-bc3a7d5cd5b3",
   "metadata": {},
   "outputs": [
    {
     "name": "stdout",
     "output_type": "stream",
     "text": [
      "http://torch-iris.kubeflow-user-example-com.svc.cluster.local/v2/models/torch-iris/infer\n",
      "<html><title>404: Model with name torch-iris does not exist.</title><body>404: Model with name torch-iris does not exist.</body></html>\n"
     ]
    }
   ],
   "source": [
    "import requests\n",
    "\n",
    "isvc_url = \"http://torch-iris.kubeflow-user-example-com.svc.cluster.local/v2/models/torch-iris/infer\"\n",
    "\"http://192.168.0.5:8080/v1/models/my_torch_iris:predict\"\n",
    "print(isvc_url)\n",
    "\n",
    "inference_input = {\n",
    "  'instances': [\n",
    "    [6.8,  2.8,  4.8,  1.4],\n",
    "    [6.0,  3.4,  4.5,  1.6]\n",
    "  ]\n",
    "}\n",
    "\n",
    "response = requests.post(isvc_url, json=inference_input)\n",
    "print(response.text)"
   ]
  },
  {
   "cell_type": "code",
   "execution_count": null,
   "id": "4c504fe0-3848-49ae-b7da-8db3d2c46ea7",
   "metadata": {},
   "outputs": [],
   "source": []
  }
 ],
 "metadata": {
  "kernelspec": {
   "display_name": "Python 3 (ipykernel)",
   "language": "python",
   "name": "python3"
  },
  "language_info": {
   "codemirror_mode": {
    "name": "ipython",
    "version": 3
   },
   "file_extension": ".py",
   "mimetype": "text/x-python",
   "name": "python",
   "nbconvert_exporter": "python",
   "pygments_lexer": "ipython3",
   "version": "3.8.10"
  }
 },
 "nbformat": 4,
 "nbformat_minor": 5
}
